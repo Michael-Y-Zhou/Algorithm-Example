{
 "cells": [
  {
   "cell_type": "markdown",
   "metadata": {},
   "source": [
    "# Binatry Search"
   ]
  },
  {
   "cell_type": "markdown",
   "metadata": {},
   "source": [
    "This is the demo code accroding to Grokking Algorithms which is really helpful for my first lesson of algorithm, the concept is easy to understand. And here is the demo code for binary search.\n",
    "\n",
    "Request: Find element position in a list.\n",
    "Input: element, list.\n",
    "Output: element index in the list.\n",
    "    "
   ]
  },
  {
   "cell_type": "code",
   "execution_count": 1,
   "metadata": {},
   "outputs": [],
   "source": [
    "def binary_search(arr,element):\n",
    "    low = 0\n",
    "    high = len(arr)-1\n",
    "    mid = (low + high)//2  #calculate the mid position\n",
    "    while low <= high:     # if low == high, list end, element not in the list  \n",
    "        if arr[mid] < element: \n",
    "            low = mid+1    #if mid element smaller than the element, set the mid position as low, recalculate the mid \n",
    "        elif arr[mid]>element:\n",
    "            high = mid-1   # if mid element larger than the element, set the mid position as high, recalculate the mid\n",
    "        else:\n",
    "            return mid\n",
    "        mid = (low + high)//2\n",
    "    \n",
    "    return None\n"
   ]
  },
  {
   "cell_type": "code",
   "execution_count": 2,
   "metadata": {},
   "outputs": [
    {
     "name": "stdout",
     "output_type": "stream",
     "text": [
      "7\n"
     ]
    }
   ],
   "source": [
    "a = [1,2,3,4,5,6,7,8,9,10,11,12,13,14,15,16,17,18,19]\n",
    "b = 8\n",
    "c = binary_search(a,b)\n",
    "print(c)"
   ]
  },
  {
   "cell_type": "markdown",
   "metadata": {},
   "source": [
    "# This is using recursion to implement the binary search \n",
    "\n",
    "This code by cutting the arr lenth to achive the recursion. There are 2 base cases, one is if arr[0] == arr[high], once this judgment triggered, means the element is not in the array, second is the arr[mid] == element, means the element is found and return the mid position. Each recurdion recording the position and add them together to get the final position.This demo is for straight forward thinking through the process. For sure there are some improvements can be made.Think is by yourself.\n"
   ]
  },
  {
   "cell_type": "code",
   "execution_count": 3,
   "metadata": {},
   "outputs": [],
   "source": [
    "def binary_search(arr,element):\n",
    "    high = len(arr)-1\n",
    "    mid = high//2\n",
    "    print(f'List during recursion: {arr}')\n",
    "    print(f'The last element index: {high}')\n",
    "\n",
    "\n",
    "    if arr[0] == arr[high]: # element not exixt, return None\n",
    "        return None\n",
    "\n",
    "    if arr[mid] == element: # element found, return the mid position\n",
    "        return mid\n",
    "    \n",
    "    \n",
    "    # if arr[mid] < element, means the element is in the list after mid, cut the list to half and pass the list after mid to the function\n",
    "    elif arr[mid] < element:\n",
    "        if binary_search(arr[mid+1:high+1],element) == None:\n",
    "            return None\n",
    "        else:\n",
    "            return mid + 1 + binary_search(arr[mid+1:high+1],element)\n",
    "        \n",
    "        \n",
    "    # if arr[mid] < element, means the element is in the list before mid, cut the list to half and pass the list before mid to the function\n",
    "    elif arr[mid]>element:\n",
    "        if binary_search(arr[0:mid],element) == None:\n",
    "            return None\n",
    "        else:\n",
    "            return binary_search(arr[0:mid],element)\n",
    "    \n"
   ]
  },
  {
   "cell_type": "code",
   "execution_count": 4,
   "metadata": {},
   "outputs": [
    {
     "name": "stdout",
     "output_type": "stream",
     "text": [
      "List during recursion: [1, 2, 3, 4, 5, 6, 7, 8, 9, 10, 11, 12, 13, 14, 15, 16, 17, 18, 19]\n",
      "The last element index: 18\n",
      "List during recursion: [11, 12, 13, 14, 15, 16, 17, 18, 19]\n",
      "The last element index: 8\n",
      "List during recursion: [16, 17, 18, 19]\n",
      "The last element index: 3\n",
      "List during recursion: [18, 19]\n",
      "The last element index: 1\n",
      "List during recursion: [19]\n",
      "The last element index: 0\n",
      "None\n"
     ]
    }
   ],
   "source": [
    "a = [1,2,3,4,5,6,7,8,9,10,11,12,13,14,15,16,17,18,19]\n",
    "b = 20\n",
    "c = binary_search(a,b)\n",
    "print(c)"
   ]
  },
  {
   "cell_type": "markdown",
   "metadata": {},
   "source": [
    "# Here is my optimization"
   ]
  },
  {
   "cell_type": "code",
   "execution_count": 5,
   "metadata": {},
   "outputs": [],
   "source": [
    "def binary_search(arr,element):\n",
    "    high = len(arr)-1\n",
    "    mid = high//2\n",
    "    \n",
    "    # if the element is out of range return none, if it's in the list, \n",
    "    # it should always stays between a[0] and a[high]\n",
    "    if arr[0] > element or arr[high]<element: \n",
    "        return None     \n",
    "    \n",
    "    else:\n",
    "        if arr[mid] == element:\n",
    "            return mid\n",
    "        elif arr[mid] < element:\n",
    "            return mid + 1 + binary_search(arr[mid+1:high+1],element)\n",
    "        else:\n",
    "            return binary_search(arr[0:mid],element)"
   ]
  },
  {
   "cell_type": "code",
   "execution_count": 6,
   "metadata": {},
   "outputs": [
    {
     "name": "stdout",
     "output_type": "stream",
     "text": [
      "9\n"
     ]
    }
   ],
   "source": [
    "a = [1,2,3,4,5,6,7,8,9,10,11,12,13,14,15,16,17,18,19]\n",
    "b = 10\n",
    "c = binary_search(a,b)\n",
    "print(c)"
   ]
  },
  {
   "cell_type": "markdown",
   "metadata": {},
   "source": [
    "# Another way of recursion by passing the index \n",
    "\n",
    "Try it see if you can figure out how it works."
   ]
  },
  {
   "cell_type": "code",
   "execution_count": 7,
   "metadata": {},
   "outputs": [],
   "source": [
    "def binary_search(arr,element,low,high):\n",
    "    if high>=low:\n",
    "        mid = (low + high)//2\n",
    "        if arr[mid] == element:\n",
    "            return mid\n",
    "        elif arr[mid] < element:\n",
    "            return binary_search(arr,element,mid+1,high)\n",
    "        else:\n",
    "            return binary_search(arr,element,low,mid-1)\n",
    "    else:\n",
    "        return None"
   ]
  },
  {
   "cell_type": "code",
   "execution_count": 8,
   "metadata": {},
   "outputs": [
    {
     "name": "stdout",
     "output_type": "stream",
     "text": [
      "None\n"
     ]
    }
   ],
   "source": [
    "a = [1,2,3,4,5,6,7,8,9,10,11,12,13,14,15,16,17,18,19]\n",
    "b = 0\n",
    "c = binary_search(a,b,0,18)\n",
    "print(c)"
   ]
  },
  {
   "cell_type": "code",
   "execution_count": null,
   "metadata": {},
   "outputs": [],
   "source": []
  }
 ],
 "metadata": {
  "kernelspec": {
   "display_name": "Python 3",
   "language": "python",
   "name": "python3"
  },
  "language_info": {
   "codemirror_mode": {
    "name": "ipython",
    "version": 3
   },
   "file_extension": ".py",
   "mimetype": "text/x-python",
   "name": "python",
   "nbconvert_exporter": "python",
   "pygments_lexer": "ipython3",
   "version": "3.7.6"
  }
 },
 "nbformat": 4,
 "nbformat_minor": 4
}
