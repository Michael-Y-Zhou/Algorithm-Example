{
 "cells": [
  {
   "cell_type": "code",
   "execution_count": 8,
   "metadata": {},
   "outputs": [],
   "source": [
    "def binary_search(arr,element):\n",
    "    low = 0\n",
    "    high = len(arr)-1\n",
    "    mid = (low + high)//2\n",
    "    while low <= high:\n",
    "        if arr[mid] < element:\n",
    "            low = mid+1\n",
    "        elif arr[mid]>element:\n",
    "            high = mid-1\n",
    "        else:\n",
    "            return mid\n",
    "        mid = (low + high)//2\n",
    "    \n",
    "    return None\n"
   ]
  },
  {
   "cell_type": "code",
   "execution_count": 11,
   "metadata": {},
   "outputs": [
    {
     "name": "stdout",
     "output_type": "stream",
     "text": [
      "7\n"
     ]
    }
   ],
   "source": [
    "a = [1,2,3,4,5,6,7,8,9,10,11,12,13,14,15,16,17,18,19]\n",
    "b = 8\n",
    "c = binary_search(a,b)\n",
    "print(c)"
   ]
  },
  {
   "cell_type": "code",
   "execution_count": 17,
   "metadata": {},
   "outputs": [
    {
     "name": "stdout",
     "output_type": "stream",
     "text": [
      "[1, 2, 2, 2, 3, 3, 4, 5, 5, 5, 5, 6, 6, 7, 8, 8, 9, 9]\n"
     ]
    }
   ],
   "source": [
    "def find_smallest(arr):\n",
    "    samllest = arr[0]\n",
    "    samllest_index = 0\n",
    "    for i in range(len(arr)):\n",
    "        if arr[i] < samllest:\n",
    "            samllest = arr[i]\n",
    "            samllest_index = i\n",
    "    return samllest_index\n",
    "def selection_sort(arr):\n",
    "    newarr = []\n",
    "    for i in range(len(arr)):\n",
    "        small_index = find_smallest(arr)\n",
    "        newarr.append(arr.pop(small_index))\n",
    "    return newarr\n",
    "a = [5,2,3,6,9,4,5,1,2,8,7,5,6,9,8,2,3,5]\n",
    "b = selection_sort(a)\n",
    "print(b)\n",
    "    \n",
    "    \n"
   ]
  },
  {
   "cell_type": "code",
   "execution_count": 26,
   "metadata": {},
   "outputs": [],
   "source": [
    "def arr_sum(arr):\n",
    "    if len(arr) == 0:\n",
    "        return 0\n",
    "    else:\n",
    "        return arr.pop(-1) + arr_sum(arr)"
   ]
  },
  {
   "cell_type": "code",
   "execution_count": 27,
   "metadata": {},
   "outputs": [
    {
     "data": {
      "text/plain": [
       "90"
      ]
     },
     "execution_count": 27,
     "metadata": {},
     "output_type": "execute_result"
    }
   ],
   "source": [
    "a = [5,2,3,6,9,4,5,1,2,8,7,5,6,9,8,2,3,5]\n",
    "arr_sum(a)"
   ]
  },
  {
   "cell_type": "code",
   "execution_count": 47,
   "metadata": {},
   "outputs": [],
   "source": [
    "def binary_search(arr,element):\n",
    "    high = len(arr)-1\n",
    "    mid = high//2\n",
    "    if arr[0] == arr[high]:\n",
    "        return None\n",
    "    print(arr, high)\n",
    "    if arr[mid] == element:\n",
    "        return mid\n",
    "    elif arr[mid] < element:\n",
    "        if binary_search(arr[mid+1:high+1],element) == None:\n",
    "            return None\n",
    "        else:\n",
    "            return mid + 1 + binary_search(arr[mid+1:high+1],element)\n",
    "    elif arr[mid]>element:\n",
    "        if binary_search(arr[0:mid],element) == None:\n",
    "            return None\n",
    "        else:\n",
    "            return binary_search(arr[0:mid],element)\n",
    "    \n"
   ]
  },
  {
   "cell_type": "code",
   "execution_count": 48,
   "metadata": {},
   "outputs": [
    {
     "name": "stdout",
     "output_type": "stream",
     "text": [
      "[1, 2, 3, 4, 5, 6, 7, 8, 9, 10, 11, 12, 13, 14, 15, 16, 17, 18, 19] 18\n",
      "[11, 12, 13, 14, 15, 16, 17, 18, 19] 8\n",
      "[16, 17, 18, 19] 3\n",
      "[18, 19] 1\n",
      "None\n"
     ]
    }
   ],
   "source": [
    "a = [1,2,3,4,5,6,7,8,9,10,11,12,13,14,15,16,17,18,19]\n",
    "b = 20\n",
    "c = binary_search(a,b)\n",
    "print(c)"
   ]
  },
  {
   "cell_type": "code",
   "execution_count": 49,
   "metadata": {},
   "outputs": [],
   "source": [
    "def binary_search(arr,element):\n",
    "    high = len(arr)-1\n",
    "    mid = high//2\n",
    "    if arr[0] > element or arr[high]<element:\n",
    "        return None\n",
    "    else:\n",
    "        if arr[mid] == element:\n",
    "            return mid\n",
    "        elif arr[mid] < element:\n",
    "            return mid + 1 + binary_search(arr[mid+1:high+1],element)\n",
    "        else:\n",
    "            return binary_search(arr[0:mid],element)"
   ]
  },
  {
   "cell_type": "code",
   "execution_count": 52,
   "metadata": {},
   "outputs": [
    {
     "name": "stdout",
     "output_type": "stream",
     "text": [
      "9\n"
     ]
    }
   ],
   "source": [
    "a = [1,2,3,4,5,6,7,8,9,10,11,12,13,14,15,16,17,18,19]\n",
    "b = 10\n",
    "c = binary_search(a,b)\n",
    "print(c)"
   ]
  },
  {
   "cell_type": "code",
   "execution_count": 72,
   "metadata": {},
   "outputs": [],
   "source": [
    "def binary_search(arr,element,low,high):\n",
    "    print(low,high)\n",
    "    if high>=low:\n",
    "        mid = (low + high)//2\n",
    "        if arr[mid] == element:\n",
    "            return mid\n",
    "        elif arr[mid] < element:\n",
    "            return binary_search(arr,element,mid+1,high)\n",
    "        else:\n",
    "            return binary_search(arr,element,low,mid-1)\n",
    "    else:\n",
    "        return None"
   ]
  },
  {
   "cell_type": "code",
   "execution_count": 74,
   "metadata": {},
   "outputs": [
    {
     "name": "stdout",
     "output_type": "stream",
     "text": [
      "0 18\n",
      "0 8\n",
      "0 3\n",
      "0 0\n",
      "0 -1\n",
      "None\n"
     ]
    }
   ],
   "source": [
    "a = [1,2,3,4,5,6,7,8,9,10,11,12,13,14,15,16,17,18,19]\n",
    "b = 0\n",
    "c = binary_search(a,b,0,18)\n",
    "print(c)"
   ]
  },
  {
   "cell_type": "code",
   "execution_count": null,
   "metadata": {},
   "outputs": [],
   "source": []
  }
 ],
 "metadata": {
  "kernelspec": {
   "display_name": "Python 3",
   "language": "python",
   "name": "python3"
  },
  "language_info": {
   "codemirror_mode": {
    "name": "ipython",
    "version": 3
   },
   "file_extension": ".py",
   "mimetype": "text/x-python",
   "name": "python",
   "nbconvert_exporter": "python",
   "pygments_lexer": "ipython3",
   "version": "3.7.6"
  }
 },
 "nbformat": 4,
 "nbformat_minor": 4
}
