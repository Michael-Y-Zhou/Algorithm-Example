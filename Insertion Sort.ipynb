{
 "cells": [
  {
   "cell_type": "code",
   "execution_count": 12,
   "metadata": {},
   "outputs": [],
   "source": [
    "def insertionSort(nums):\n",
    "    for i in range(len(nums)):\n",
    "        preIndex = i-1\n",
    "        current_value = nums[i]\n",
    "        while preIndex >= 0 and nums[preIndex] > current_value:\n",
    "            nums[preIndex+1] = nums[preIndex]\n",
    "            preIndex-=1\n",
    "        nums[preIndex+1] = current_value\n",
    "    return nums"
   ]
  },
  {
   "cell_type": "code",
   "execution_count": 14,
   "metadata": {},
   "outputs": [
    {
     "name": "stdout",
     "output_type": "stream",
     "text": [
      "[1, 3, 8, 15, 16, 16, 17, 19, 19, 24, 25, 26, 26, 27, 27, 29, 30, 39, 40, 40, 44, 45, 46, 47, 49]\n"
     ]
    }
   ],
   "source": [
    "import random\n",
    "\n",
    "a = [random.randrange(50) for i in range(25)]\n",
    "print(insertionSort(a))"
   ]
  }
 ],
 "metadata": {
  "kernelspec": {
   "display_name": "Python 3",
   "language": "python",
   "name": "python3"
  },
  "language_info": {
   "codemirror_mode": {
    "name": "ipython",
    "version": 3
   },
   "file_extension": ".py",
   "mimetype": "text/x-python",
   "name": "python",
   "nbconvert_exporter": "python",
   "pygments_lexer": "ipython3",
   "version": "3.7.6"
  }
 },
 "nbformat": 4,
 "nbformat_minor": 4
}
