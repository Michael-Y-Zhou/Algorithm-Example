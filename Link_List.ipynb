{
 "cells": [
  {
   "cell_type": "code",
   "execution_count": 1,
   "metadata": {},
   "outputs": [],
   "source": [
    "class LinkedList:\n",
    "    def __init__(self):\n",
    "        self.head = None\n",
    "        self.tail = None\n",
    "  \n",
    "    def is_empty(self):\n",
    "        return self.head is None\n",
    "  \n",
    "    def append(self, data):\n",
    "        node = Node(data)\n",
    "        if self.head is None:\n",
    "            self.head = node\n",
    "            self.tail = node\n",
    "        else:\n",
    "            self.tail.next = node\n",
    "            self.tail = node\n",
    "  \n",
    "    def iter(self):\n",
    "        if not self.head:\n",
    "            return\n",
    "        cur = self.head\n",
    "        yield cur.data\n",
    "        while cur.next:\n",
    "            cur = cur.next\n",
    "            yield cur.data\n",
    "  \n",
    "    def insert(self, idx, value):\n",
    "        cur = self.head\n",
    "        cur_idx = 0\n",
    "        if cur is None:             # 判断是否是空链表\n",
    "            raise Exception('The list is an empty list')\n",
    "        while cur_idx < idx-1:   # 遍历链表\n",
    "            cur = cur.next\n",
    "            if cur is None:   # 判断是不是最后一个元素\n",
    "                raise Exception('list length less than index')\n",
    "            cur_idx += 1\n",
    "        node = Node(value)\n",
    "        node.next = cur.next\n",
    "        cur.next = node\n",
    "        if node.next is None:\n",
    "            self.tail = node\n",
    "  \n",
    "    def remove(self, idx):\n",
    "        cur = self.head\n",
    "        cur_idx = 0\n",
    "        if self.head is None:  # 空链表时\n",
    "            raise Exception('The list is an empty list')\n",
    "        while cur_idx < idx-1:\n",
    "            cur = cur.next\n",
    "            if cur is None:\n",
    "                raise Exception('list length less than index')\n",
    "            cur_idx += 1\n",
    "        if idx == 0:   # 当删除第一个节点时\n",
    "            self.head = cur.next\n",
    "            cur = cur.next\n",
    "            return\n",
    "        if self.head is self.tail:   # 当只有一个节点的链表时\n",
    "            self.head = None\n",
    "            self.tail = None\n",
    "            return\n",
    "        cur.next = cur.next.next\n",
    "        if cur.next is None:  # 当删除的节点是链表最后一个节点时\n",
    "            self.tail = cur\n",
    "  \n",
    "    def size(self):\n",
    "        current = self.head\n",
    "        count = 0\n",
    "        if current is None:\n",
    "            return 'The list is an empty list'\n",
    "        while current is not None:\n",
    "            count += 1\n",
    "            current = current.next\n",
    "        return count\n",
    "  \n",
    "    def search(self, item):\n",
    "        current = self.head\n",
    "        found = False\n",
    "        while current is not None and not found:\n",
    "            if current.data == item:\n",
    "                found = True\n",
    "            else:\n",
    "                current = current.next\n",
    "        return found\n",
    "  \n"
   ]
  },
  {
   "cell_type": "code",
   "execution_count": 3,
   "metadata": {},
   "outputs": [],
   "source": [
    "class Node:\n",
    "    def __init__(self, data):\n",
    "        self.data = data\n",
    "        self.next = None"
   ]
  },
  {
   "cell_type": "code",
   "execution_count": 5,
   "metadata": {},
   "outputs": [
    {
     "name": "stdout",
     "output_type": "stream",
     "text": [
      "node is 0\n",
      "node is 1\n",
      "node is 2\n",
      "node is 3\n",
      "node is 4\n",
      "node is 5\n",
      "node is 6\n",
      "node is 7\n",
      "node is 8\n",
      "node is 9\n",
      "10\n"
     ]
    }
   ],
   "source": [
    "link_list = LinkedList()\n",
    "for i in range(10):\n",
    "    link_list.append(i)\n",
    "#    print(link_list.is_empty())\n",
    "#    link_list.insert(10, 30)\n",
    "\n",
    "#    link_list.remove(0)\n",
    "\n",
    "for node in link_list.iter():\n",
    "    print('node is {0}'.format(node))\n",
    "print(link_list.size())\n",
    "#    print(link_list.search(20))"
   ]
  },
  {
   "cell_type": "code",
   "execution_count": 7,
   "metadata": {},
   "outputs": [],
   "source": [
    "def reverse_the_list(linklist):\n",
    "    cur = linklist.head.next\n",
    "    linklist.head.next = None\n",
    "    data_temp = cur\n",
    "    next_temp = cur.next\n",
    "    cur.next = linklist.head\n",
    "    cur = next_temp\n",
    "    linklist.tail = linklist.head\n",
    "    while cur.next is not None:\n",
    "        next_temp = cur.next\n",
    "        cur.next = data_temp\n",
    "        data_temp = cur\n",
    "        cur = next_temp\n",
    "    next_temp = cur.next\n",
    "    cur.next = data_temp\n",
    "    linklist.head = cur\n",
    "    return linklist\n",
    "    "
   ]
  },
  {
   "cell_type": "code",
   "execution_count": 10,
   "metadata": {},
   "outputs": [
    {
     "name": "stdout",
     "output_type": "stream",
     "text": [
      "node is 9\n",
      "node is 8\n",
      "node is 7\n",
      "node is 6\n",
      "node is 5\n",
      "node is 4\n",
      "node is 3\n",
      "node is 2\n",
      "node is 1\n",
      "node is 0\n"
     ]
    }
   ],
   "source": [
    "link = reverse_the_list(link_list)\n",
    "for node in link.iter():\n",
    "    print('node is {0}'.format(node))"
   ]
  },
  {
   "cell_type": "code",
   "execution_count": null,
   "metadata": {},
   "outputs": [],
   "source": []
  }
 ],
 "metadata": {
  "kernelspec": {
   "display_name": "Python 3",
   "language": "python",
   "name": "python3"
  },
  "language_info": {
   "codemirror_mode": {
    "name": "ipython",
    "version": 3
   },
   "file_extension": ".py",
   "mimetype": "text/x-python",
   "name": "python",
   "nbconvert_exporter": "python",
   "pygments_lexer": "ipython3",
   "version": "3.7.6"
  }
 },
 "nbformat": 4,
 "nbformat_minor": 4
}
