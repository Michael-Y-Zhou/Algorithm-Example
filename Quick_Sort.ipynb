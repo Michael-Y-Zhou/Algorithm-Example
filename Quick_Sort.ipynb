{
 "cells": [
  {
   "cell_type": "markdown",
   "metadata": {},
   "source": [
    "## Quick sort"
   ]
  },
  {
   "cell_type": "code",
   "execution_count": 1,
   "metadata": {},
   "outputs": [],
   "source": [
    "def quick_sort(arr):\n",
    "    if len(arr) < 2:\n",
    "        return arr\n",
    "    else:\n",
    "        pivot = arr[0]\n",
    "        less = [i for i in arr[1:] if i <= pivot]\n",
    "        greater = [i for i in arr[1:] if i > pivot]\n",
    "        return quick_sort(less) + [pivot] + quick_sort(greater)"
   ]
  },
  {
   "cell_type": "code",
   "execution_count": 13,
   "metadata": {},
   "outputs": [
    {
     "name": "stdout",
     "output_type": "stream",
     "text": [
      "[600, 712, 965, 1172, 1573, 1669, 1674, 1783, 1847, 1932, 1939, 2466, 2506, 2653, 2910, 3593, 3705, 3840, 3951, 4623, 4669, 4711, 4892, 4897, 4999]\n"
     ]
    }
   ],
   "source": [
    "import random\n",
    "a = random.sample(range(1,5000,1),25)\n",
    "print(quick_sort(a))"
   ]
  },
  {
   "cell_type": "markdown",
   "metadata": {},
   "source": [
    "## Quick sort in place"
   ]
  },
  {
   "cell_type": "code",
   "execution_count": 3,
   "metadata": {},
   "outputs": [],
   "source": [
    "def quick_sort_in_place(nums):\n",
    "    if len(nums) <= 1:\n",
    "        return nums\n",
    "    pivot = nums[-1]\n",
    "    i = 0\n",
    "    for j in range(0,len(nums)):\n",
    "        if nums[j]<pivot:\n",
    "            nums[i], nums[j] = nums[j],nums[i]\n",
    "            i += 1\n",
    "    nums[-1],nums[i] = nums[i],nums[-1]\n",
    "    return quick_sort_in_place(nums[0:i]) + [pivot] + quick_sort_in_place(nums[i+1:])\n",
    "\n",
    "            \n",
    "        "
   ]
  },
  {
   "cell_type": "code",
   "execution_count": 8,
   "metadata": {},
   "outputs": [
    {
     "name": "stdout",
     "output_type": "stream",
     "text": [
      "[3, 7, 7, 8, 11, 13, 13, 14, 16, 18, 19, 21, 21, 30, 34, 35, 40, 56, 58, 62, 76, 78, 80, 99, 99]\n"
     ]
    }
   ],
   "source": [
    "a = [random.randrange(100) for i in range(25)]\n",
    "print(quick_sort_in_place(a))"
   ]
  },
  {
   "cell_type": "code",
   "execution_count": null,
   "metadata": {},
   "outputs": [],
   "source": []
  },
  {
   "cell_type": "code",
   "execution_count": null,
   "metadata": {},
   "outputs": [],
   "source": []
  }
 ],
 "metadata": {
  "kernelspec": {
   "display_name": "Python 3",
   "language": "python",
   "name": "python3"
  },
  "language_info": {
   "codemirror_mode": {
    "name": "ipython",
    "version": 3
   },
   "file_extension": ".py",
   "mimetype": "text/x-python",
   "name": "python",
   "nbconvert_exporter": "python",
   "pygments_lexer": "ipython3",
   "version": "3.7.6"
  }
 },
 "nbformat": 4,
 "nbformat_minor": 4
}
