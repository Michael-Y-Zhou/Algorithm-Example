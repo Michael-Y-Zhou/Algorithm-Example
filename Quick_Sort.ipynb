{
 "cells": [
  {
   "cell_type": "code",
   "execution_count": 1,
   "metadata": {},
   "outputs": [],
   "source": [
    "def quick_sort(arr):\n",
    "    print(arr)\n",
    "    if len(arr) < 2:\n",
    "        return arr\n",
    "    else:\n",
    "        pivot = arr[0]\n",
    "        less = [i for i in arr[1:] if i <= pivot]\n",
    "        greater = [i for i in arr[1:] if i > pivot]\n",
    "        return quick_sort(less) + [pivot] + quick_sort(greater)"
   ]
  },
  {
   "cell_type": "code",
   "execution_count": 2,
   "metadata": {},
   "outputs": [
    {
     "name": "stdout",
     "output_type": "stream",
     "text": [
      "[1, 2, 5, 3, 6, 25, 12, 4, 5, 622, 45, 1, 2, 3, 2, 1, 455121, 23, 21, 5, 5, 12]\n",
      "[1, 1]\n",
      "[1]\n",
      "[]\n",
      "[2, 5, 3, 6, 25, 12, 4, 5, 622, 45, 2, 3, 2, 455121, 23, 21, 5, 5, 12]\n",
      "[2, 2]\n",
      "[2]\n",
      "[]\n",
      "[5, 3, 6, 25, 12, 4, 5, 622, 45, 3, 455121, 23, 21, 5, 5, 12]\n",
      "[3, 4, 5, 3, 5, 5]\n",
      "[3]\n",
      "[4, 5, 5, 5]\n",
      "[]\n",
      "[5, 5, 5]\n",
      "[5, 5]\n",
      "[5]\n",
      "[]\n",
      "[]\n",
      "[6, 25, 12, 622, 45, 455121, 23, 21, 12]\n",
      "[]\n",
      "[25, 12, 622, 45, 455121, 23, 21, 12]\n",
      "[12, 23, 21, 12]\n",
      "[12]\n",
      "[23, 21]\n",
      "[21]\n",
      "[]\n",
      "[622, 45, 455121]\n",
      "[45]\n",
      "[455121]\n"
     ]
    },
    {
     "data": {
      "text/plain": [
       "[1, 1, 1, 2, 2, 2, 3, 3, 4, 5, 5, 5, 5, 6, 12, 12, 21, 23, 25, 45, 622, 455121]"
      ]
     },
     "execution_count": 2,
     "metadata": {},
     "output_type": "execute_result"
    }
   ],
   "source": [
    "a = [1,2,5,3,6,25,12,4,5,622,45,1,2,3,2,1,455121,23,21,5,5,12]\n",
    "quick_sort(a)"
   ]
  },
  {
   "cell_type": "code",
   "execution_count": 3,
   "metadata": {},
   "outputs": [
    {
     "name": "stdout",
     "output_type": "stream",
     "text": [
      "[1, 2, 2, 2, 3, 3, 4, 5, 5, 5, 5, 6, 6, 7, 8, 8, 9, 9]\n"
     ]
    }
   ],
   "source": [
    "def find_smallest(arr):\n",
    "    samllest = arr[0]\n",
    "    samllest_index = 0\n",
    "    for i in range(len(arr)):\n",
    "        if arr[i] < samllest:\n",
    "            samllest = arr[i]\n",
    "            samllest_index = i\n",
    "    return samllest_index\n",
    "\n",
    "def selection_sort(arr):\n",
    "    newarr = []\n",
    "    for i in range(len(arr)):\n",
    "        small_index = find_smallest(arr)\n",
    "        newarr.append(arr.pop(small_index))\n",
    "    return newarr\n",
    "a = [5,2,3,6,9,4,5,1,2,8,7,5,6,9,8,2,3,5]\n",
    "b = selection_sort(a)\n",
    "print(b)\n",
    "    \n",
    "    "
   ]
  },
  {
   "cell_type": "code",
   "execution_count": 4,
   "metadata": {},
   "outputs": [],
   "source": [
    "def arr_sum(arr):\n",
    "    if len(arr) == 0:\n",
    "        return 0\n",
    "    else:\n",
    "        return arr.pop(-1) + arr_sum(arr)"
   ]
  },
  {
   "cell_type": "code",
   "execution_count": 5,
   "metadata": {},
   "outputs": [
    {
     "data": {
      "text/plain": [
       "90"
      ]
     },
     "execution_count": 5,
     "metadata": {},
     "output_type": "execute_result"
    }
   ],
   "source": [
    "a = [5,2,3,6,9,4,5,1,2,8,7,5,6,9,8,2,3,5]\n",
    "arr_sum(a)"
   ]
  },
  {
   "cell_type": "code",
   "execution_count": null,
   "metadata": {},
   "outputs": [],
   "source": []
  }
 ],
 "metadata": {
  "kernelspec": {
   "display_name": "Python 3",
   "language": "python",
   "name": "python3"
  },
  "language_info": {
   "codemirror_mode": {
    "name": "ipython",
    "version": 3
   },
   "file_extension": ".py",
   "mimetype": "text/x-python",
   "name": "python",
   "nbconvert_exporter": "python",
   "pygments_lexer": "ipython3",
   "version": "3.7.6"
  }
 },
 "nbformat": 4,
 "nbformat_minor": 4
}
